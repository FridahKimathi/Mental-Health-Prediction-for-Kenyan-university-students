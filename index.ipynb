{
 "cells": [
  {
   "attachments": {},
   "cell_type": "markdown",
   "id": "926a030e",
   "metadata": {},
   "source": [
    "# **Mental Health Prediction for Kenyan university students**\n",
    "\n",
    "##### **Authors**:\n",
    "<ul type='square'> \n",
    "    <li> Alice Wamuyu</li>\n",
    "    <li> Eugene Kuloba </li>\n",
    "    <li> Fridah Kimathi </li>\n",
    "    <li> Karen Amanya  </li>\n",
    "    <li> Nicholus Magak  </li>\n",
    "    <li> Nobert Akwir </li>\n",
    "</ul>"
   ]
  },
  {
   "attachments": {},
   "cell_type": "markdown",
   "id": "c2668ecc",
   "metadata": {},
   "source": [
    "#  **1. Business Understanding**"
   ]
  },
  {
   "attachments": {},
   "cell_type": "markdown",
   "id": "c92dfede",
   "metadata": {},
   "source": [
    "## **Objectives**\n",
    "\n",
    "> ### **General Objective**\n",
    "\n",
    "> ### **Specific Objectives**\n",
    "<ul type='square'>\n",
    "    <li >  </li>\n",
    "    <li>  </li>\n",
    "    <li>  </li>\n",
    "    <li>  </li>\n",
    "    <li>  </li>\n",
    "    <li>  </li>\n",
    "</ul>\n",
    "\n"
   ]
  },
  {
   "attachments": {},
   "cell_type": "markdown",
   "id": "c5adedfe",
   "metadata": {},
   "source": [
    "### **Importing the required libraries**"
   ]
  },
  {
   "cell_type": "code",
   "execution_count": 1,
   "id": "9650ea50",
   "metadata": {},
   "outputs": [],
   "source": [
    "import pandas as pd\n",
    "import matplotlib.pyplot as plt\n",
    "%matplotlib inline\n",
    "%config inlineBackend.figure_format = 'retina'\n",
    "import seaborn as sns\n",
    "sns.set_context('notebook')\n",
    "import string\n",
    "from textblob import TextBlob, Word\n",
    "import nltk\n",
    "from nltk.stem import WordNetLemmatizer\n",
    "from nltk.stem.porter import PorterStemmer\n",
    "from sklearn.feature_extraction.text import TfidfVectorizer, CountVectorizer\n",
    "from imblearn.over_sampling import SMOTE\n",
    "from sklearn.model_selection import train_test_split, GridSearchCV\n",
    "from sklearn.tree import DecisionTreeClassifier\n",
    "from sklearn.neighbors import KNeighborsClassifier\n",
    "from sklearn.preprocessing import StandardScaler\n",
    "from sklearn.pipeline import Pipeline\n",
    "from sklearn.ensemble import RandomForestClassifier, GradientBoostingClassifier, AdaBoostClassifier\n",
    "from xgboost import XGBClassifier\n",
    "from sklearn.metrics import  accuracy_score, classification_report, log_loss"
   ]
  },
  {
   "attachments": {},
   "cell_type": "markdown",
   "id": "00eb33ab",
   "metadata": {},
   "source": [
    "# **2. Data Understanding**\n",
    "\n",
    "The data used in this project is from the <a href=\"https://zindi.africa/competitions/basic-needs-basic-rights-kenya-tech4mentalhealth/data\">  Basic Needs Basic Rights Kenya - Tech4MentalHealth</a> competition hosted by Zindi Africa. The data consists of statements and questions expressed by students from multiple universities across Kenya who reported suffering from these different mental health challenges. The wording of the statements is intended to respond to the prompting question, “What is on your mind?”"
   ]
  },
  {
   "attachments": {},
   "cell_type": "markdown",
   "id": "f901a07b",
   "metadata": {},
   "source": [
    "#### **Loading the data**"
   ]
  },
  {
   "cell_type": "code",
   "execution_count": 2,
   "id": "df61ebb0",
   "metadata": {},
   "outputs": [],
   "source": [
    "train_df = pd.read_csv('Data/Train.csv')\n",
    "validation_df = pd.read_csv('Data/Test.csv')"
   ]
  },
  {
   "cell_type": "code",
   "execution_count": 3,
   "id": "03dde7a8",
   "metadata": {},
   "outputs": [
    {
     "name": "stdout",
     "output_type": "stream",
     "text": [
      "The train data shape: (616, 3)\n",
      "The test data shape: (309, 2)\n"
     ]
    }
   ],
   "source": [
    "# shape of the datasets\n",
    "print(f'The train data shape: {train_df.shape}')\n",
    "print(f'The test data shape: {validation_df.shape}')"
   ]
  },
  {
   "cell_type": "code",
   "execution_count": 4,
   "id": "d126de24",
   "metadata": {},
   "outputs": [
    {
     "name": "stdout",
     "output_type": "stream",
     "text": [
      "The train data columns: \n",
      " Index(['ID', 'text', 'label'], dtype='object') \n",
      "\n",
      "The test data columns: \n",
      " Index(['ID', 'text'], dtype='object')\n"
     ]
    }
   ],
   "source": [
    "# the columns in the datasets\n",
    "print(f'The train data columns: \\n {train_df.columns} \\n')\n",
    "print(f'The test data columns: \\n {validation_df.columns}')"
   ]
  },
  {
   "cell_type": "code",
   "execution_count": 5,
   "id": "df512500",
   "metadata": {},
   "outputs": [
    {
     "name": "stdout",
     "output_type": "stream",
     "text": [
      "<class 'pandas.core.frame.DataFrame'>\n",
      "RangeIndex: 616 entries, 0 to 615\n",
      "Data columns (total 3 columns):\n",
      " #   Column  Non-Null Count  Dtype \n",
      "---  ------  --------------  ----- \n",
      " 0   ID      616 non-null    object\n",
      " 1   text    616 non-null    object\n",
      " 2   label   616 non-null    object\n",
      "dtypes: object(3)\n",
      "memory usage: 14.6+ KB\n",
      "The train data info: None \n",
      " \n",
      "\n",
      "<class 'pandas.core.frame.DataFrame'>\n",
      "RangeIndex: 309 entries, 0 to 308\n",
      "Data columns (total 2 columns):\n",
      " #   Column  Non-Null Count  Dtype \n",
      "---  ------  --------------  ----- \n",
      " 0   ID      309 non-null    object\n",
      " 1   text    309 non-null    object\n",
      "dtypes: object(2)\n",
      "memory usage: 5.0+ KB\n",
      "The test data info: None\n"
     ]
    }
   ],
   "source": [
    "# Checking for the shape, column names and data types \n",
    "print(f'The train data info: {train_df.info()} \\n \\n')\n",
    "print(f'The test data info: {validation_df.info()}')"
   ]
  },
  {
   "cell_type": "code",
   "execution_count": 6,
   "id": "a537cf2c",
   "metadata": {},
   "outputs": [
    {
     "data": {
      "text/plain": [
       "Depression    0.571429\n",
       "Alcohol       0.227273\n",
       "Suicide       0.107143\n",
       "Drugs         0.094156\n",
       "Name: label, dtype: float64"
      ]
     },
     "execution_count": 6,
     "metadata": {},
     "output_type": "execute_result"
    }
   ],
   "source": [
    "# classes proportionality \n",
    "train_df['label'].value_counts(normalize=True)\n",
    "\n",
    "    # There is a slight class imbalance."
   ]
  },
  {
   "cell_type": "code",
   "execution_count": 7,
   "id": "e47fa83a",
   "metadata": {},
   "outputs": [
    {
     "data": {
      "image/png": "[encoded data removed]",
      "text/plain": [
       "<Figure size 1080x576 with 1 Axes>"
      ]
     },
     "metadata": {
      "needs_background": "light"
     },
     "output_type": "display_data"
    }
   ],
   "source": [
    "# Visualizing the proportionality of the target\n",
    "\n",
    "train_df['label'].hist(figsize=(15,8));"
   ]
  },
  {
   "cell_type": "code",
   "execution_count": 8,
   "id": "010a00bc",
   "metadata": {},
   "outputs": [
    {
     "data": {
      "text/plain": [
       "0      39\n",
       "1      28\n",
       "2      57\n",
       "3      22\n",
       "4      51\n",
       "       ..\n",
       "611    36\n",
       "612    30\n",
       "613    24\n",
       "614    16\n",
       "615    31\n",
       "Name: length, Length: 616, dtype: int64"
      ]
     },
     "execution_count": 8,
     "metadata": {},
     "output_type": "execute_result"
    }
   ],
   "source": [
    "# Creating a new column length showing the length of test per column\n",
    "train_df['length'] =  train_df['text'].apply(len)\n",
    "train_df['length']"
   ]
  },
  {
   "cell_type": "code",
   "execution_count": 9,
   "id": "b827835f",
   "metadata": {},
   "outputs": [
    {
     "data": {
      "text/html": [
       "<div>\n",
       "<style scoped>\n",
       "    .dataframe tbody tr th:only-of-type {\n",
       "        vertical-align: middle;\n",
       "    }\n",
       "\n",
       "    .dataframe tbody tr th {\n",
       "        vertical-align: top;\n",
       "    }\n",
       "\n",
       "    .dataframe thead th {\n",
       "        text-align: right;\n",
       "    }\n",
       "</style>\n",
       "<table border=\"1\" class=\"dataframe\">\n",
       "  <thead>\n",
       "    <tr style=\"text-align: right;\">\n",
       "      <th></th>\n",
       "      <th>length</th>\n",
       "    </tr>\n",
       "  </thead>\n",
       "  <tbody>\n",
       "    <tr>\n",
       "      <th>count</th>\n",
       "      <td>616.000000</td>\n",
       "    </tr>\n",
       "    <tr>\n",
       "      <th>mean</th>\n",
       "      <td>39.813312</td>\n",
       "    </tr>\n",
       "    <tr>\n",
       "      <th>std</th>\n",
       "      <td>21.438797</td>\n",
       "    </tr>\n",
       "    <tr>\n",
       "      <th>min</th>\n",
       "      <td>8.000000</td>\n",
       "    </tr>\n",
       "    <tr>\n",
       "      <th>25%</th>\n",
       "      <td>26.000000</td>\n",
       "    </tr>\n",
       "    <tr>\n",
       "      <th>50%</th>\n",
       "      <td>35.000000</td>\n",
       "    </tr>\n",
       "    <tr>\n",
       "      <th>75%</th>\n",
       "      <td>48.250000</td>\n",
       "    </tr>\n",
       "    <tr>\n",
       "      <th>max</th>\n",
       "      <td>196.000000</td>\n",
       "    </tr>\n",
       "  </tbody>\n",
       "</table>\n",
       "</div>"
      ],
      "text/plain": [
       "           length\n",
       "count  616.000000\n",
       "mean    39.813312\n",
       "std     21.438797\n",
       "min      8.000000\n",
       "25%     26.000000\n",
       "50%     35.000000\n",
       "75%     48.250000\n",
       "max    196.000000"
      ]
     },
     "execution_count": 9,
     "metadata": {},
     "output_type": "execute_result"
    }
   ],
   "source": [
    "# Statistical summary of the dataframe \n",
    "train_df.describe()\n",
    "\n",
    "# The smallest statement is 8 words long\n",
    "# The biggest statement is 196 words long"
   ]
  },
  {
   "cell_type": "code",
   "execution_count": 10,
   "id": "f8ab1159",
   "metadata": {},
   "outputs": [
    {
     "data": {
      "text/html": [
       "<div>\n",
       "<style scoped>\n",
       "    .dataframe tbody tr th:only-of-type {\n",
       "        vertical-align: middle;\n",
       "    }\n",
       "\n",
       "    .dataframe tbody tr th {\n",
       "        vertical-align: top;\n",
       "    }\n",
       "\n",
       "    .dataframe thead th {\n",
       "        text-align: right;\n",
       "    }\n",
       "</style>\n",
       "<table border=\"1\" class=\"dataframe\">\n",
       "  <thead>\n",
       "    <tr style=\"text-align: right;\">\n",
       "      <th></th>\n",
       "      <th>ID</th>\n",
       "      <th>text</th>\n",
       "      <th>label</th>\n",
       "      <th>length</th>\n",
       "    </tr>\n",
       "  </thead>\n",
       "  <tbody>\n",
       "    <tr>\n",
       "      <th>194</th>\n",
       "      <td>J55053XP</td>\n",
       "      <td>I am financially constrained over school fees ...</td>\n",
       "      <td>Depression</td>\n",
       "      <td>196</td>\n",
       "    </tr>\n",
       "  </tbody>\n",
       "</table>\n",
       "</div>"
      ],
      "text/plain": [
       "           ID                                               text       label  \\\n",
       "194  J55053XP  I am financially constrained over school fees ...  Depression   \n",
       "\n",
       "     length  \n",
       "194     196  "
      ]
     },
     "execution_count": 10,
     "metadata": {},
     "output_type": "execute_result"
    }
   ],
   "source": [
    "# Viewing the statement with the most words\n",
    "\n",
    "train_df[train_df['length'] == 196]"
   ]
  },
  {
   "cell_type": "code",
   "execution_count": 11,
   "id": "444e546d",
   "metadata": {},
   "outputs": [
    {
     "name": "stdout",
     "output_type": "stream",
     "text": [
      "I am financially constrained over school fees and my  family background is not stable with a lot of debts…I have an elderly brother who could easily support me but has no job even after graduating\n"
     ]
    }
   ],
   "source": [
    "# Viewing the statement with the most words\n",
    "\n",
    "print(train_df['text'].iloc[194])"
   ]
  },
  {
   "attachments": {},
   "cell_type": "markdown",
   "id": "75832ca3",
   "metadata": {},
   "source": [
    " #### **Visualizing the distribution of the number of words per text**"
   ]
  },
  {
   "cell_type": "code",
   "execution_count": 12,
   "id": "fa527957",
   "metadata": {},
   "outputs": [
    {
     "data": {
      "image/png": "[encoded data removed]",
      "text/plain": [
       "<Figure size 1080x576 with 1 Axes>"
      ]
     },
     "metadata": {
      "needs_background": "light"
     },
     "output_type": "display_data"
    }
   ],
   "source": [
    "fig, ax = plt.subplots(figsize=(15,8))\n",
    "sns.histplot(train_df['length'],ax=ax, kde=True)\n",
    "ax.set_ylabel(\"Count\")\n",
    "ax.set_xlabel(\"Number of words per text\")\n",
    "ax.set_title(\"The distribution of the number of words per text\");\n",
    "\n",
    "# Observations:\n",
    "    # The average text length lies between 25 and 40 words"
   ]
  },
  {
   "attachments": {},
   "cell_type": "markdown",
   "id": "02a16a1c",
   "metadata": {},
   "source": [
    " #### **Visualizing the effect of the number of words per text to the mental health status**"
   ]
  },
  {
   "cell_type": "code",
   "execution_count": 13,
   "id": "8f9e2451",
   "metadata": {},
   "outputs": [
    {
     "data": {
      "image/png": "[encoded data removed]",
      "text/plain": [
       "<Figure size 1080x576 with 1 Axes>"
      ]
     },
     "metadata": {
      "needs_background": "light"
     },
     "output_type": "display_data"
    }
   ],
   "source": [
    "avg_text_length = train_df.groupby(\"label\").mean().sort_values(by='length', ascending=False)\n",
    "\n",
    "fig, ax = plt.subplots(figsize=(15,8))\n",
    "sns.barplot(x=avg_text_length.index,y=avg_text_length.length, ax=ax)\n",
    "ax.set_ylabel(\"Text Length\")\n",
    "ax.set_xlabel(\"Mental Health Status\")\n",
    "ax.set_title(\"The effect of the number of words per text to the mental health status\");\n",
    "\n",
    "# Observations:\n",
    "    #Depression has the highest number of words per text on average followed closely by Suicide.\n",
    "    # Alcohol and drugs have almost the same number of words per text which makes sense since alcohol is also a type of a drug."
   ]
  },
  {
   "attachments": {},
   "cell_type": "markdown",
   "id": "ca10eea1",
   "metadata": {},
   "source": [
    "# **3. Data Preparation**"
   ]
  },
  {
   "attachments": {},
   "cell_type": "markdown",
   "id": "212cd0b8",
   "metadata": {},
   "source": [
    " #### **i. Correcting spelling mistakes**"
   ]
  },
  {
   "cell_type": "code",
   "execution_count": 14,
   "id": "4ff34493",
   "metadata": {},
   "outputs": [
    {
     "data": {
      "text/html": [
       "<div>\n",
       "<style scoped>\n",
       "    .dataframe tbody tr th:only-of-type {\n",
       "        vertical-align: middle;\n",
       "    }\n",
       "\n",
       "    .dataframe tbody tr th {\n",
       "        vertical-align: top;\n",
       "    }\n",
       "\n",
       "    .dataframe thead th {\n",
       "        text-align: right;\n",
       "    }\n",
       "</style>\n",
       "<table border=\"1\" class=\"dataframe\">\n",
       "  <thead>\n",
       "    <tr style=\"text-align: right;\">\n",
       "      <th></th>\n",
       "      <th>ID</th>\n",
       "      <th>text</th>\n",
       "      <th>label</th>\n",
       "      <th>length</th>\n",
       "      <th>corrected_sent</th>\n",
       "    </tr>\n",
       "  </thead>\n",
       "  <tbody>\n",
       "    <tr>\n",
       "      <th>0</th>\n",
       "      <td>SUAVK39Z</td>\n",
       "      <td>I feel that it was better I dieAm happy</td>\n",
       "      <td>Depression</td>\n",
       "      <td>39</td>\n",
       "      <td>I feel that it was better I die happy</td>\n",
       "    </tr>\n",
       "    <tr>\n",
       "      <th>1</th>\n",
       "      <td>9JDAGUV3</td>\n",
       "      <td>Why do I get hallucinations?</td>\n",
       "      <td>Drugs</td>\n",
       "      <td>28</td>\n",
       "      <td>Why do I get hallucinations?</td>\n",
       "    </tr>\n",
       "    <tr>\n",
       "      <th>2</th>\n",
       "      <td>419WR1LQ</td>\n",
       "      <td>I am stresseed due to lack of financial suppor...</td>\n",
       "      <td>Depression</td>\n",
       "      <td>57</td>\n",
       "      <td>I am stressed due to lack of financial support...</td>\n",
       "    </tr>\n",
       "    <tr>\n",
       "      <th>3</th>\n",
       "      <td>6UY7DX6Q</td>\n",
       "      <td>Why is life important?</td>\n",
       "      <td>Suicide</td>\n",
       "      <td>22</td>\n",
       "      <td>Why is life important?</td>\n",
       "    </tr>\n",
       "    <tr>\n",
       "      <th>4</th>\n",
       "      <td>FYC0FTFB</td>\n",
       "      <td>How could I be helped to go through the depres...</td>\n",
       "      <td>Depression</td>\n",
       "      <td>51</td>\n",
       "      <td>Now could I be helped to go through the depres...</td>\n",
       "    </tr>\n",
       "  </tbody>\n",
       "</table>\n",
       "</div>"
      ],
      "text/plain": [
       "         ID                                               text       label  \\\n",
       "0  SUAVK39Z            I feel that it was better I dieAm happy  Depression   \n",
       "1  9JDAGUV3                       Why do I get hallucinations?       Drugs   \n",
       "2  419WR1LQ  I am stresseed due to lack of financial suppor...  Depression   \n",
       "3  6UY7DX6Q                             Why is life important?     Suicide   \n",
       "4  FYC0FTFB  How could I be helped to go through the depres...  Depression   \n",
       "\n",
       "   length                                     corrected_sent  \n",
       "0      39              I feel that it was better I die happy  \n",
       "1      28                       Why do I get hallucinations?  \n",
       "2      57  I am stressed due to lack of financial support...  \n",
       "3      22                             Why is life important?  \n",
       "4      51  Now could I be helped to go through the depres...  "
      ]
     },
     "execution_count": 14,
     "metadata": {},
     "output_type": "execute_result"
    }
   ],
   "source": [
    "## To install textblob : conda install -c conda-forge textblob in terminal\n",
    "\n",
    "def correct_sent(text):\n",
    "    correction = TextBlob(text)\n",
    "    correction = correction.correct()\n",
    "    return str(correction)\n",
    "\n",
    "train_df['corrected_sent'] = train_df['text'].apply(lambda x: correct_sent(x))\n",
    "validation_df['corrected_sent'] = validation_df['text'].apply(lambda x: correct_sent(x))\n",
    "train_df.head()"
   ]
  },
  {
   "attachments": {},
   "cell_type": "markdown",
   "id": "769a2360",
   "metadata": {},
   "source": [
    " #### **ii. Changing text to lowercase**"
   ]
  },
  {
   "cell_type": "code",
   "execution_count": 15,
   "id": "a19c06b3",
   "metadata": {},
   "outputs": [
    {
     "data": {
      "text/html": [
       "<div>\n",
       "<style scoped>\n",
       "    .dataframe tbody tr th:only-of-type {\n",
       "        vertical-align: middle;\n",
       "    }\n",
       "\n",
       "    .dataframe tbody tr th {\n",
       "        vertical-align: top;\n",
       "    }\n",
       "\n",
       "    .dataframe thead th {\n",
       "        text-align: right;\n",
       "    }\n",
       "</style>\n",
       "<table border=\"1\" class=\"dataframe\">\n",
       "  <thead>\n",
       "    <tr style=\"text-align: right;\">\n",
       "      <th></th>\n",
       "      <th>ID</th>\n",
       "      <th>text</th>\n",
       "      <th>label</th>\n",
       "      <th>length</th>\n",
       "      <th>corrected_sent</th>\n",
       "    </tr>\n",
       "  </thead>\n",
       "  <tbody>\n",
       "    <tr>\n",
       "      <th>0</th>\n",
       "      <td>SUAVK39Z</td>\n",
       "      <td>I feel that it was better I dieAm happy</td>\n",
       "      <td>Depression</td>\n",
       "      <td>39</td>\n",
       "      <td>i feel that it was better i die happy</td>\n",
       "    </tr>\n",
       "    <tr>\n",
       "      <th>1</th>\n",
       "      <td>9JDAGUV3</td>\n",
       "      <td>Why do I get hallucinations?</td>\n",
       "      <td>Drugs</td>\n",
       "      <td>28</td>\n",
       "      <td>why do i get hallucinations?</td>\n",
       "    </tr>\n",
       "    <tr>\n",
       "      <th>2</th>\n",
       "      <td>419WR1LQ</td>\n",
       "      <td>I am stresseed due to lack of financial suppor...</td>\n",
       "      <td>Depression</td>\n",
       "      <td>57</td>\n",
       "      <td>i am stressed due to lack of financial support...</td>\n",
       "    </tr>\n",
       "    <tr>\n",
       "      <th>3</th>\n",
       "      <td>6UY7DX6Q</td>\n",
       "      <td>Why is life important?</td>\n",
       "      <td>Suicide</td>\n",
       "      <td>22</td>\n",
       "      <td>why is life important?</td>\n",
       "    </tr>\n",
       "    <tr>\n",
       "      <th>4</th>\n",
       "      <td>FYC0FTFB</td>\n",
       "      <td>How could I be helped to go through the depres...</td>\n",
       "      <td>Depression</td>\n",
       "      <td>51</td>\n",
       "      <td>now could i be helped to go through the depres...</td>\n",
       "    </tr>\n",
       "  </tbody>\n",
       "</table>\n",
       "</div>"
      ],
      "text/plain": [
       "         ID                                               text       label  \\\n",
       "0  SUAVK39Z            I feel that it was better I dieAm happy  Depression   \n",
       "1  9JDAGUV3                       Why do I get hallucinations?       Drugs   \n",
       "2  419WR1LQ  I am stresseed due to lack of financial suppor...  Depression   \n",
       "3  6UY7DX6Q                             Why is life important?     Suicide   \n",
       "4  FYC0FTFB  How could I be helped to go through the depres...  Depression   \n",
       "\n",
       "   length                                     corrected_sent  \n",
       "0      39              i feel that it was better i die happy  \n",
       "1      28                       why do i get hallucinations?  \n",
       "2      57  i am stressed due to lack of financial support...  \n",
       "3      22                             why is life important?  \n",
       "4      51  now could i be helped to go through the depres...  "
      ]
     },
     "execution_count": 15,
     "metadata": {},
     "output_type": "execute_result"
    }
   ],
   "source": [
    "train_df['corrected_sent'] = train_df['corrected_sent'].apply(lambda x: x.lower())\n",
    "validation_df['corrected_sent'] = validation_df['corrected_sent'].apply(lambda x: x.lower())\n",
    "train_df.head()"
   ]
  },
  {
   "attachments": {},
   "cell_type": "markdown",
   "id": "7d199288",
   "metadata": {},
   "source": [
    " #### **iii. Removing the punctuation marks**"
   ]
  },
  {
   "cell_type": "code",
   "execution_count": 16,
   "id": "37c1535f",
   "metadata": {},
   "outputs": [
    {
     "name": "stdout",
     "output_type": "stream",
     "text": [
      "i feel hopeless, unworthy and useless …now do i cope with stress and forge the past?\n",
      "i am facing a lot of challenges in life financially, emotional, psycologically and with no solutions…now can i safely look for solutions about depression on goose\n",
      "there i get money for my needs…there do i get money  for personal needs?\n",
      "i am financially constrained over school fees and my  family background is not stable with a lot of debts…i have an elderly brother who could easily support me but has no job even after granulating\n",
      "i feel desperate…why is the world so unfair\n",
      "by relatives deny me…i wonder if i am part of my family?\n"
     ]
    }
   ],
   "source": [
    "# Checking texts with special characters such as â€¦ represented as …\n",
    "\n",
    "for x in train_df['corrected_sent']:\n",
    "    if '…' in x:\n",
    "        print(x)"
   ]
  },
  {
   "cell_type": "code",
   "execution_count": 17,
   "id": "701a6dd2",
   "metadata": {},
   "outputs": [],
   "source": [
    "# Removing special characters â€¦ represented as …\n",
    "\n",
    "train_df['corrected_sent'] = train_df['corrected_sent'].apply(lambda x: x.replace('…', ' '))\n",
    "validation_df['corrected_sent'] = validation_df['corrected_sent'].apply(lambda x: x.replace('…', ' '))"
   ]
  },
  {
   "cell_type": "code",
   "execution_count": 18,
   "id": "9cd439c0",
   "metadata": {},
   "outputs": [
    {
     "data": {
      "text/html": [
       "<div>\n",
       "<style scoped>\n",
       "    .dataframe tbody tr th:only-of-type {\n",
       "        vertical-align: middle;\n",
       "    }\n",
       "\n",
       "    .dataframe tbody tr th {\n",
       "        vertical-align: top;\n",
       "    }\n",
       "\n",
       "    .dataframe thead th {\n",
       "        text-align: right;\n",
       "    }\n",
       "</style>\n",
       "<table border=\"1\" class=\"dataframe\">\n",
       "  <thead>\n",
       "    <tr style=\"text-align: right;\">\n",
       "      <th></th>\n",
       "      <th>ID</th>\n",
       "      <th>text</th>\n",
       "      <th>label</th>\n",
       "      <th>length</th>\n",
       "      <th>corrected_sent</th>\n",
       "    </tr>\n",
       "  </thead>\n",
       "  <tbody>\n",
       "    <tr>\n",
       "      <th>0</th>\n",
       "      <td>SUAVK39Z</td>\n",
       "      <td>I feel that it was better I dieAm happy</td>\n",
       "      <td>Depression</td>\n",
       "      <td>39</td>\n",
       "      <td>i feel that it was better i die happy</td>\n",
       "    </tr>\n",
       "    <tr>\n",
       "      <th>1</th>\n",
       "      <td>9JDAGUV3</td>\n",
       "      <td>Why do I get hallucinations?</td>\n",
       "      <td>Drugs</td>\n",
       "      <td>28</td>\n",
       "      <td>why do i get hallucinations</td>\n",
       "    </tr>\n",
       "    <tr>\n",
       "      <th>2</th>\n",
       "      <td>419WR1LQ</td>\n",
       "      <td>I am stresseed due to lack of financial suppor...</td>\n",
       "      <td>Depression</td>\n",
       "      <td>57</td>\n",
       "      <td>i am stressed due to lack of financial support...</td>\n",
       "    </tr>\n",
       "    <tr>\n",
       "      <th>3</th>\n",
       "      <td>6UY7DX6Q</td>\n",
       "      <td>Why is life important?</td>\n",
       "      <td>Suicide</td>\n",
       "      <td>22</td>\n",
       "      <td>why is life important</td>\n",
       "    </tr>\n",
       "    <tr>\n",
       "      <th>4</th>\n",
       "      <td>FYC0FTFB</td>\n",
       "      <td>How could I be helped to go through the depres...</td>\n",
       "      <td>Depression</td>\n",
       "      <td>51</td>\n",
       "      <td>now could i be helped to go through the depres...</td>\n",
       "    </tr>\n",
       "  </tbody>\n",
       "</table>\n",
       "</div>"
      ],
      "text/plain": [
       "         ID                                               text       label  \\\n",
       "0  SUAVK39Z            I feel that it was better I dieAm happy  Depression   \n",
       "1  9JDAGUV3                       Why do I get hallucinations?       Drugs   \n",
       "2  419WR1LQ  I am stresseed due to lack of financial suppor...  Depression   \n",
       "3  6UY7DX6Q                             Why is life important?     Suicide   \n",
       "4  FYC0FTFB  How could I be helped to go through the depres...  Depression   \n",
       "\n",
       "   length                                     corrected_sent  \n",
       "0      39              i feel that it was better i die happy  \n",
       "1      28                        why do i get hallucinations  \n",
       "2      57  i am stressed due to lack of financial support...  \n",
       "3      22                              why is life important  \n",
       "4      51  now could i be helped to go through the depres...  "
      ]
     },
     "execution_count": 18,
     "metadata": {},
     "output_type": "execute_result"
    }
   ],
   "source": [
    "# removing the other standard punctuation marks\n",
    "\n",
    "train_df['corrected_sent'] = train_df['corrected_sent'].apply(lambda x: x.strip(string.punctuation))\n",
    "validation_df['corrected_sent'] = validation_df['corrected_sent'].apply(lambda x: x.strip(string.punctuation))\n",
    "\n",
    "train_df.head()"
   ]
  },
  {
   "attachments": {},
   "cell_type": "markdown",
   "id": "2a3affb2",
   "metadata": {},
   "source": [
    " #### **iv. removing stop words**"
   ]
  },
  {
   "cell_type": "code",
   "execution_count": 19,
   "id": "76e32181",
   "metadata": {},
   "outputs": [],
   "source": [
    "# Downloading the necessary nltk packages. Uncomment to download\n",
    "\n",
    "#nltk.download('wordnet')\n",
    "#nltk.download('omw-1.4')\n",
    "#nltk.download('punkt')"
   ]
  },
  {
   "cell_type": "code",
   "execution_count": 20,
   "id": "9d10351c",
   "metadata": {
    "scrolled": true
   },
   "outputs": [
    {
     "data": {
      "text/html": [
       "<div>\n",
       "<style scoped>\n",
       "    .dataframe tbody tr th:only-of-type {\n",
       "        vertical-align: middle;\n",
       "    }\n",
       "\n",
       "    .dataframe tbody tr th {\n",
       "        vertical-align: top;\n",
       "    }\n",
       "\n",
       "    .dataframe thead th {\n",
       "        text-align: right;\n",
       "    }\n",
       "</style>\n",
       "<table border=\"1\" class=\"dataframe\">\n",
       "  <thead>\n",
       "    <tr style=\"text-align: right;\">\n",
       "      <th></th>\n",
       "      <th>ID</th>\n",
       "      <th>text</th>\n",
       "      <th>label</th>\n",
       "      <th>length</th>\n",
       "      <th>corrected_sent</th>\n",
       "      <th>no_stopwords</th>\n",
       "    </tr>\n",
       "  </thead>\n",
       "  <tbody>\n",
       "    <tr>\n",
       "      <th>0</th>\n",
       "      <td>SUAVK39Z</td>\n",
       "      <td>I feel that it was better I dieAm happy</td>\n",
       "      <td>Depression</td>\n",
       "      <td>39</td>\n",
       "      <td>i feel that it was better i die happy</td>\n",
       "      <td>feel better die happy</td>\n",
       "    </tr>\n",
       "    <tr>\n",
       "      <th>1</th>\n",
       "      <td>9JDAGUV3</td>\n",
       "      <td>Why do I get hallucinations?</td>\n",
       "      <td>Drugs</td>\n",
       "      <td>28</td>\n",
       "      <td>why do i get hallucinations</td>\n",
       "      <td>get hallucinations</td>\n",
       "    </tr>\n",
       "    <tr>\n",
       "      <th>2</th>\n",
       "      <td>419WR1LQ</td>\n",
       "      <td>I am stresseed due to lack of financial suppor...</td>\n",
       "      <td>Depression</td>\n",
       "      <td>57</td>\n",
       "      <td>i am stressed due to lack of financial support...</td>\n",
       "      <td>stress due lack financial support school</td>\n",
       "    </tr>\n",
       "    <tr>\n",
       "      <th>3</th>\n",
       "      <td>6UY7DX6Q</td>\n",
       "      <td>Why is life important?</td>\n",
       "      <td>Suicide</td>\n",
       "      <td>22</td>\n",
       "      <td>why is life important</td>\n",
       "      <td>life important</td>\n",
       "    </tr>\n",
       "    <tr>\n",
       "      <th>4</th>\n",
       "      <td>FYC0FTFB</td>\n",
       "      <td>How could I be helped to go through the depres...</td>\n",
       "      <td>Depression</td>\n",
       "      <td>51</td>\n",
       "      <td>now could i be helped to go through the depres...</td>\n",
       "      <td>could help go depression</td>\n",
       "    </tr>\n",
       "  </tbody>\n",
       "</table>\n",
       "</div>"
      ],
      "text/plain": [
       "         ID                                               text       label  \\\n",
       "0  SUAVK39Z            I feel that it was better I dieAm happy  Depression   \n",
       "1  9JDAGUV3                       Why do I get hallucinations?       Drugs   \n",
       "2  419WR1LQ  I am stresseed due to lack of financial suppor...  Depression   \n",
       "3  6UY7DX6Q                             Why is life important?     Suicide   \n",
       "4  FYC0FTFB  How could I be helped to go through the depres...  Depression   \n",
       "\n",
       "   length                                     corrected_sent  \\\n",
       "0      39              i feel that it was better i die happy   \n",
       "1      28                        why do i get hallucinations   \n",
       "2      57  i am stressed due to lack of financial support...   \n",
       "3      22                              why is life important   \n",
       "4      51  now could i be helped to go through the depres...   \n",
       "\n",
       "                               no_stopwords  \n",
       "0                     feel better die happy  \n",
       "1                        get hallucinations  \n",
       "2  stress due lack financial support school  \n",
       "3                            life important  \n",
       "4                  could help go depression  "
      ]
     },
     "execution_count": 20,
     "metadata": {},
     "output_type": "execute_result"
    }
   ],
   "source": [
    "stopwords = nltk.corpus.stopwords.words('english')\n",
    "wordnet_lemmatizer = WordNetLemmatizer()\n",
    "\n",
    "def remove_stopwords(x):\n",
    "    sent = [wordnet_lemmatizer.lemmatize(i, 'v') for i in x.split() if i not in stopwords]\n",
    "    return ' '.join(sent)\n",
    "\n",
    "train_df['no_stopwords'] = train_df['corrected_sent'].apply(lambda x: remove_stopwords(x))\n",
    "validation_df['no_stopwords'] = validation_df['corrected_sent'].apply(lambda x: remove_stopwords(x))\n",
    "train_df.head()"
   ]
  },
  {
   "attachments": {},
   "cell_type": "markdown",
   "id": "3d44fc8e",
   "metadata": {},
   "source": [
    "#### **iv. Performing train test split**"
   ]
  },
  {
   "cell_type": "code",
   "execution_count": 21,
   "id": "dd8416e9",
   "metadata": {},
   "outputs": [
    {
     "data": {
      "text/plain": [
       "0      Depression\n",
       "1           Drugs\n",
       "2      Depression\n",
       "3         Suicide\n",
       "4      Depression\n",
       "          ...    \n",
       "611       Alcohol\n",
       "612       Suicide\n",
       "613       Alcohol\n",
       "614    Depression\n",
       "615    Depression\n",
       "Name: label, Length: 616, dtype: object"
      ]
     },
     "execution_count": 21,
     "metadata": {},
     "output_type": "execute_result"
    }
   ],
   "source": [
    "train_label = train_df['label']\n",
    "train_label"
   ]
  },
  {
   "cell_type": "code",
   "execution_count": 22,
   "id": "acd2dedc",
   "metadata": {},
   "outputs": [
    {
     "data": {
      "text/plain": [
       "0      0\n",
       "1      3\n",
       "2      0\n",
       "3      2\n",
       "4      0\n",
       "      ..\n",
       "611    1\n",
       "612    2\n",
       "613    1\n",
       "614    0\n",
       "615    0\n",
       "Name: label, Length: 616, dtype: int64"
      ]
     },
     "execution_count": 22,
     "metadata": {},
     "output_type": "execute_result"
    }
   ],
   "source": [
    "#Encoding the train data\n",
    "target={'Depression':0, 'Alcohol':1, 'Suicide':2, 'Drugs':3}\n",
    "\n",
    "train_label = train_label.map(target)\n",
    "train_label"
   ]
  },
  {
   "cell_type": "code",
   "execution_count": 23,
   "id": "1139b7b8",
   "metadata": {},
   "outputs": [],
   "source": [
    "X_train, X_test, y_train, y_test = train_test_split(train_df, train_label, test_size=0.2 , random_state=42)\n"
   ]
  },
  {
   "attachments": {},
   "cell_type": "markdown",
   "id": "74338227",
   "metadata": {},
   "source": [
    " #### **v. Vectorization**"
   ]
  },
  {
   "cell_type": "code",
   "execution_count": 24,
   "id": "f0b26b66",
   "metadata": {},
   "outputs": [
    {
     "data": {
      "text/html": [
       "<div>\n",
       "<style scoped>\n",
       "    .dataframe tbody tr th:only-of-type {\n",
       "        vertical-align: middle;\n",
       "    }\n",
       "\n",
       "    .dataframe tbody tr th {\n",
       "        vertical-align: top;\n",
       "    }\n",
       "\n",
       "    .dataframe thead th {\n",
       "        text-align: right;\n",
       "    }\n",
       "</style>\n",
       "<table border=\"1\" class=\"dataframe\">\n",
       "  <thead>\n",
       "    <tr style=\"text-align: right;\">\n",
       "      <th></th>\n",
       "      <th>abandon</th>\n",
       "      <th>able</th>\n",
       "      <th>absent</th>\n",
       "      <th>abuse</th>\n",
       "      <th>academic</th>\n",
       "      <th>add</th>\n",
       "      <th>addict</th>\n",
       "      <th>addition</th>\n",
       "      <th>adduct</th>\n",
       "      <th>adults</th>\n",
       "      <th>...</th>\n",
       "      <th>world</th>\n",
       "      <th>worry</th>\n",
       "      <th>worst</th>\n",
       "      <th>worth</th>\n",
       "      <th>worthless</th>\n",
       "      <th>would</th>\n",
       "      <th>wrap</th>\n",
       "      <th>yet</th>\n",
       "      <th>young</th>\n",
       "      <th>youths</th>\n",
       "    </tr>\n",
       "  </thead>\n",
       "  <tbody>\n",
       "    <tr>\n",
       "      <th>0</th>\n",
       "      <td>0</td>\n",
       "      <td>0</td>\n",
       "      <td>0</td>\n",
       "      <td>0</td>\n",
       "      <td>0</td>\n",
       "      <td>0</td>\n",
       "      <td>0</td>\n",
       "      <td>0</td>\n",
       "      <td>0</td>\n",
       "      <td>0</td>\n",
       "      <td>...</td>\n",
       "      <td>0</td>\n",
       "      <td>0</td>\n",
       "      <td>0</td>\n",
       "      <td>0</td>\n",
       "      <td>0</td>\n",
       "      <td>0</td>\n",
       "      <td>0</td>\n",
       "      <td>0</td>\n",
       "      <td>0</td>\n",
       "      <td>0</td>\n",
       "    </tr>\n",
       "    <tr>\n",
       "      <th>1</th>\n",
       "      <td>0</td>\n",
       "      <td>0</td>\n",
       "      <td>0</td>\n",
       "      <td>0</td>\n",
       "      <td>0</td>\n",
       "      <td>0</td>\n",
       "      <td>0</td>\n",
       "      <td>0</td>\n",
       "      <td>0</td>\n",
       "      <td>0</td>\n",
       "      <td>...</td>\n",
       "      <td>0</td>\n",
       "      <td>0</td>\n",
       "      <td>0</td>\n",
       "      <td>0</td>\n",
       "      <td>0</td>\n",
       "      <td>0</td>\n",
       "      <td>0</td>\n",
       "      <td>0</td>\n",
       "      <td>0</td>\n",
       "      <td>0</td>\n",
       "    </tr>\n",
       "    <tr>\n",
       "      <th>2</th>\n",
       "      <td>0</td>\n",
       "      <td>0</td>\n",
       "      <td>0</td>\n",
       "      <td>0</td>\n",
       "      <td>0</td>\n",
       "      <td>0</td>\n",
       "      <td>0</td>\n",
       "      <td>0</td>\n",
       "      <td>0</td>\n",
       "      <td>0</td>\n",
       "      <td>...</td>\n",
       "      <td>0</td>\n",
       "      <td>0</td>\n",
       "      <td>0</td>\n",
       "      <td>0</td>\n",
       "      <td>0</td>\n",
       "      <td>0</td>\n",
       "      <td>0</td>\n",
       "      <td>0</td>\n",
       "      <td>0</td>\n",
       "      <td>0</td>\n",
       "    </tr>\n",
       "  </tbody>\n",
       "</table>\n",
       "<p>3 rows × 566 columns</p>\n",
       "</div>"
      ],
      "text/plain": [
       "   abandon  able  absent  abuse  academic  add  addict  addition  adduct  \\\n",
       "0        0     0       0      0         0    0       0         0       0   \n",
       "1        0     0       0      0         0    0       0         0       0   \n",
       "2        0     0       0      0         0    0       0         0       0   \n",
       "\n",
       "   adults  ...  world  worry  worst  worth  worthless  would  wrap  yet  \\\n",
       "0       0  ...      0      0      0      0          0      0     0    0   \n",
       "1       0  ...      0      0      0      0          0      0     0    0   \n",
       "2       0  ...      0      0      0      0          0      0     0    0   \n",
       "\n",
       "   young  youths  \n",
       "0      0       0  \n",
       "1      0       0  \n",
       "2      0       0  \n",
       "\n",
       "[3 rows x 566 columns]"
      ]
     },
     "execution_count": 24,
     "metadata": {},
     "output_type": "execute_result"
    }
   ],
   "source": [
    "# Instantiate countvectorizer\n",
    "countvec = CountVectorizer(ngram_range=(1,1))\n",
    "countvec1 = CountVectorizer(ngram_range=(1,1))\n",
    "\n",
    "# Vectorization of the data\n",
    "count_train_data = countvec.fit_transform(X_train.no_stopwords)\n",
    "count_test_data = countvec.transform(X_test.no_stopwords)\n",
    "\n",
    "count_training_data = countvec1.fit_transform(train_df.no_stopwords)\n",
    "count_validation_data = countvec1.transform(validation_df.no_stopwords)\n",
    "\n",
    "\n",
    "X_train= pd.DataFrame(count_train_data.toarray(), columns=countvec.get_feature_names())\n",
    "X_test  = pd.DataFrame(count_test_data.toarray(), columns=countvec.get_feature_names())\n",
    "\n",
    "train_data= pd.DataFrame(count_training_data.toarray(), columns=countvec1.get_feature_names())\n",
    "validation_data= pd.DataFrame(count_validation_data.toarray(), columns=countvec1.get_feature_names())\n",
    "\n",
    "X_train.head(3)"
   ]
  },
  {
   "attachments": {},
   "cell_type": "markdown",
   "id": "e19b53b5",
   "metadata": {},
   "source": [
    "# **3. Modelling**"
   ]
  },
  {
   "cell_type": "code",
   "execution_count": 25,
   "id": "5991010a",
   "metadata": {},
   "outputs": [],
   "source": [
    "#Models to be tested\n",
    "models = { 'Model' : ['Baseline Decision Tree', 'Baseline KNN Classifier', 'Baseline Random Forest Classifier',\\\n",
    "                      'Baseline Adaboost Classifier', 'Baseline Gradient Boost', 'baseline XGBoost Classifier',\\\n",
    "                        'XGBoost Classifier-Grid Search'],\n",
    "          'Train Accuracy Score(%)': [0, 0, 0, 0, 0, 0, 0],\n",
    "          'Test Accuracy Score(%)': [0, 0, 0, 0, 0, 0, 0],\n",
    "          'Train Log_loss': [0, 0, 0, 0, 0, 0, 0],\n",
    "          'Test Log_loss': [0, 0, 0, 0, 0, 0, 0] }\n",
    "          \n",
    "\n",
    "#Dataframe holding the model names and accuracy score and log_loss score\n",
    "df_model_results = pd.DataFrame(models, columns=['Model','Train Accuracy Score(%)', 'Test Accuracy Score(%)', 'Train Log_loss', 'Test Log_loss'])\n",
    "\n",
    "\n",
    "#Function to fill the dataframe holding model names and accuracy score\n",
    "\n",
    "def model_results(model_type, y_train, y_train_pred, y_train_pred_prob, y_test, y_test_pred, y_test_pred_prob):\n",
    "  index_val = df_model_results[df_model_results['Model']==model_type].index\n",
    "\n",
    "  df_model_results.loc[index_val, 'Train Accuracy Score(%)'] = round(accuracy_score(y_train, y_train_pred), 2)*100\n",
    "  df_model_results.loc[index_val, 'Test Accuracy Score(%)'] = round(accuracy_score(y_test, y_test_pred), 2)*100\n",
    "  df_model_results.loc[index_val, 'Train Log_loss'] = log_loss(y_train, y_train_pred_prob, labels=[0,1,2,3])\n",
    "  df_model_results.loc[index_val, 'Test Log_loss'] = log_loss(y_test, y_test_pred_prob, labels=[0,1,2,3])\n",
    "\n",
    "  return df_model_results"
   ]
  },
  {
   "cell_type": "code",
   "execution_count": 26,
   "id": "dde038ef",
   "metadata": {},
   "outputs": [],
   "source": [
    "# Function to run all the baseline models:\n",
    "def baseline_models(model, model_name):\n",
    "    model.fit(X_train, y_train)\n",
    "\n",
    "    y_test_pred_prob = model.predict_proba(X_test)\n",
    "    y_train_pred_prob = model.predict_proba(X_train)\n",
    "\n",
    "    y_test_pred = model.predict(X_test)\n",
    "    y_train_pred = model.predict(X_train)\n",
    "\n",
    "    print('*********************************************************************')\n",
    "    print(classification_report(y_test, y_test_pred ))\n",
    "\n",
    "    print('*********************************************************************')\n",
    "    return model_results(model_name,y_train, y_train_pred, y_train_pred_prob, y_test, y_test_pred, y_test_pred_prob)\n"
   ]
  },
  {
   "attachments": {},
   "cell_type": "markdown",
   "id": "da93c6fa",
   "metadata": {},
   "source": [
    ">> <b>i. Decision Tree Classifier</b>"
   ]
  },
  {
   "cell_type": "code",
   "execution_count": 27,
   "id": "eef8dfa6",
   "metadata": {},
   "outputs": [
    {
     "name": "stdout",
     "output_type": "stream",
     "text": [
      "*********************************************************************\n",
      "              precision    recall  f1-score   support\n",
      "\n",
      "           0       0.84      0.90      0.87        63\n",
      "           1       0.84      0.93      0.88        28\n",
      "           2       0.62      0.50      0.55        16\n",
      "           3       1.00      0.71      0.83        17\n",
      "\n",
      "    accuracy                           0.83       124\n",
      "   macro avg       0.82      0.76      0.78       124\n",
      "weighted avg       0.83      0.83      0.83       124\n",
      "\n",
      "*********************************************************************\n"
     ]
    },
    {
     "data": {
      "text/html": [
       "<div>\n",
       "<style scoped>\n",
       "    .dataframe tbody tr th:only-of-type {\n",
       "        vertical-align: middle;\n",
       "    }\n",
       "\n",
       "    .dataframe tbody tr th {\n",
       "        vertical-align: top;\n",
       "    }\n",
       "\n",
       "    .dataframe thead th {\n",
       "        text-align: right;\n",
       "    }\n",
       "</style>\n",
       "<table border=\"1\" class=\"dataframe\">\n",
       "  <thead>\n",
       "    <tr style=\"text-align: right;\">\n",
       "      <th></th>\n",
       "      <th>Model</th>\n",
       "      <th>Train Accuracy Score(%)</th>\n",
       "      <th>Test Accuracy Score(%)</th>\n",
       "      <th>Train Log_loss</th>\n",
       "      <th>Test Log_loss</th>\n",
       "    </tr>\n",
       "  </thead>\n",
       "  <tbody>\n",
       "    <tr>\n",
       "      <th>0</th>\n",
       "      <td>Baseline Decision Tree</td>\n",
       "      <td>99.0</td>\n",
       "      <td>83.0</td>\n",
       "      <td>0.012334</td>\n",
       "      <td>5.59081</td>\n",
       "    </tr>\n",
       "    <tr>\n",
       "      <th>1</th>\n",
       "      <td>Baseline KNN Classifier</td>\n",
       "      <td>0.0</td>\n",
       "      <td>0.0</td>\n",
       "      <td>0.000000</td>\n",
       "      <td>0.00000</td>\n",
       "    </tr>\n",
       "    <tr>\n",
       "      <th>2</th>\n",
       "      <td>Baseline Random Forest Classifier</td>\n",
       "      <td>0.0</td>\n",
       "      <td>0.0</td>\n",
       "      <td>0.000000</td>\n",
       "      <td>0.00000</td>\n",
       "    </tr>\n",
       "    <tr>\n",
       "      <th>3</th>\n",
       "      <td>Baseline Adaboost Classifier</td>\n",
       "      <td>0.0</td>\n",
       "      <td>0.0</td>\n",
       "      <td>0.000000</td>\n",
       "      <td>0.00000</td>\n",
       "    </tr>\n",
       "    <tr>\n",
       "      <th>4</th>\n",
       "      <td>Baseline Gradient Boost</td>\n",
       "      <td>0.0</td>\n",
       "      <td>0.0</td>\n",
       "      <td>0.000000</td>\n",
       "      <td>0.00000</td>\n",
       "    </tr>\n",
       "    <tr>\n",
       "      <th>5</th>\n",
       "      <td>baseline XGBoost Classifier</td>\n",
       "      <td>0.0</td>\n",
       "      <td>0.0</td>\n",
       "      <td>0.000000</td>\n",
       "      <td>0.00000</td>\n",
       "    </tr>\n",
       "    <tr>\n",
       "      <th>6</th>\n",
       "      <td>XGBoost Classifier-Grid Search</td>\n",
       "      <td>0.0</td>\n",
       "      <td>0.0</td>\n",
       "      <td>0.000000</td>\n",
       "      <td>0.00000</td>\n",
       "    </tr>\n",
       "  </tbody>\n",
       "</table>\n",
       "</div>"
      ],
      "text/plain": [
       "                               Model  Train Accuracy Score(%)  \\\n",
       "0             Baseline Decision Tree                     99.0   \n",
       "1            Baseline KNN Classifier                      0.0   \n",
       "2  Baseline Random Forest Classifier                      0.0   \n",
       "3       Baseline Adaboost Classifier                      0.0   \n",
       "4            Baseline Gradient Boost                      0.0   \n",
       "5        baseline XGBoost Classifier                      0.0   \n",
       "6     XGBoost Classifier-Grid Search                      0.0   \n",
       "\n",
       "   Test Accuracy Score(%)  Train Log_loss  Test Log_loss  \n",
       "0                    83.0        0.012334        5.59081  \n",
       "1                     0.0        0.000000        0.00000  \n",
       "2                     0.0        0.000000        0.00000  \n",
       "3                     0.0        0.000000        0.00000  \n",
       "4                     0.0        0.000000        0.00000  \n",
       "5                     0.0        0.000000        0.00000  \n",
       "6                     0.0        0.000000        0.00000  "
      ]
     },
     "execution_count": 27,
     "metadata": {},
     "output_type": "execute_result"
    }
   ],
   "source": [
    "baseline_dt = DecisionTreeClassifier(random_state=100)\n",
    "baseline_models(baseline_dt, 'Baseline Decision Tree')\n",
    "\n",
    "#Observation:\n",
    "     # Despite the fact that suicide has more data than drugs, it performs worse than it\n",
    "     # There is overfitting "
   ]
  },
  {
   "attachments": {},
   "cell_type": "markdown",
   "id": "e616e870",
   "metadata": {},
   "source": [
    ">> <b>ii. KNN Classifier</b>"
   ]
  },
  {
   "cell_type": "code",
   "execution_count": 28,
   "id": "46eca888",
   "metadata": {},
   "outputs": [
    {
     "name": "stdout",
     "output_type": "stream",
     "text": [
      "*********************************************************************\n",
      "              precision    recall  f1-score   support\n",
      "\n",
      "           0       0.73      0.90      0.81        63\n",
      "           1       0.63      0.86      0.73        28\n",
      "           2       0.50      0.06      0.11        16\n",
      "           3       0.83      0.29      0.43        17\n",
      "\n",
      "    accuracy                           0.70       124\n",
      "   macro avg       0.67      0.53      0.52       124\n",
      "weighted avg       0.69      0.70      0.65       124\n",
      "\n",
      "*********************************************************************\n"
     ]
    },
    {
     "data": {
      "text/html": [
       "<div>\n",
       "<style scoped>\n",
       "    .dataframe tbody tr th:only-of-type {\n",
       "        vertical-align: middle;\n",
       "    }\n",
       "\n",
       "    .dataframe tbody tr th {\n",
       "        vertical-align: top;\n",
       "    }\n",
       "\n",
       "    .dataframe thead th {\n",
       "        text-align: right;\n",
       "    }\n",
       "</style>\n",
       "<table border=\"1\" class=\"dataframe\">\n",
       "  <thead>\n",
       "    <tr style=\"text-align: right;\">\n",
       "      <th></th>\n",
       "      <th>Model</th>\n",
       "      <th>Train Accuracy Score(%)</th>\n",
       "      <th>Test Accuracy Score(%)</th>\n",
       "      <th>Train Log_loss</th>\n",
       "      <th>Test Log_loss</th>\n",
       "    </tr>\n",
       "  </thead>\n",
       "  <tbody>\n",
       "    <tr>\n",
       "      <th>0</th>\n",
       "      <td>Baseline Decision Tree</td>\n",
       "      <td>99.0</td>\n",
       "      <td>83.0</td>\n",
       "      <td>0.012334</td>\n",
       "      <td>5.590810</td>\n",
       "    </tr>\n",
       "    <tr>\n",
       "      <th>1</th>\n",
       "      <td>Baseline KNN Classifier</td>\n",
       "      <td>82.0</td>\n",
       "      <td>70.0</td>\n",
       "      <td>0.512985</td>\n",
       "      <td>2.842548</td>\n",
       "    </tr>\n",
       "    <tr>\n",
       "      <th>2</th>\n",
       "      <td>Baseline Random Forest Classifier</td>\n",
       "      <td>0.0</td>\n",
       "      <td>0.0</td>\n",
       "      <td>0.000000</td>\n",
       "      <td>0.000000</td>\n",
       "    </tr>\n",
       "    <tr>\n",
       "      <th>3</th>\n",
       "      <td>Baseline Adaboost Classifier</td>\n",
       "      <td>0.0</td>\n",
       "      <td>0.0</td>\n",
       "      <td>0.000000</td>\n",
       "      <td>0.000000</td>\n",
       "    </tr>\n",
       "    <tr>\n",
       "      <th>4</th>\n",
       "      <td>Baseline Gradient Boost</td>\n",
       "      <td>0.0</td>\n",
       "      <td>0.0</td>\n",
       "      <td>0.000000</td>\n",
       "      <td>0.000000</td>\n",
       "    </tr>\n",
       "    <tr>\n",
       "      <th>5</th>\n",
       "      <td>baseline XGBoost Classifier</td>\n",
       "      <td>0.0</td>\n",
       "      <td>0.0</td>\n",
       "      <td>0.000000</td>\n",
       "      <td>0.000000</td>\n",
       "    </tr>\n",
       "    <tr>\n",
       "      <th>6</th>\n",
       "      <td>XGBoost Classifier-Grid Search</td>\n",
       "      <td>0.0</td>\n",
       "      <td>0.0</td>\n",
       "      <td>0.000000</td>\n",
       "      <td>0.000000</td>\n",
       "    </tr>\n",
       "  </tbody>\n",
       "</table>\n",
       "</div>"
      ],
      "text/plain": [
       "                               Model  Train Accuracy Score(%)  \\\n",
       "0             Baseline Decision Tree                     99.0   \n",
       "1            Baseline KNN Classifier                     82.0   \n",
       "2  Baseline Random Forest Classifier                      0.0   \n",
       "3       Baseline Adaboost Classifier                      0.0   \n",
       "4            Baseline Gradient Boost                      0.0   \n",
       "5        baseline XGBoost Classifier                      0.0   \n",
       "6     XGBoost Classifier-Grid Search                      0.0   \n",
       "\n",
       "   Test Accuracy Score(%)  Train Log_loss  Test Log_loss  \n",
       "0                    83.0        0.012334       5.590810  \n",
       "1                    70.0        0.512985       2.842548  \n",
       "2                     0.0        0.000000       0.000000  \n",
       "3                     0.0        0.000000       0.000000  \n",
       "4                     0.0        0.000000       0.000000  \n",
       "5                     0.0        0.000000       0.000000  \n",
       "6                     0.0        0.000000       0.000000  "
      ]
     },
     "execution_count": 28,
     "metadata": {},
     "output_type": "execute_result"
    }
   ],
   "source": [
    "baseline_knn_pipe = Pipeline(steps=[('sc', StandardScaler()), ('knn', KNeighborsClassifier())])\n",
    "baseline_models(baseline_knn_pipe, 'Baseline KNN Classifier')\n",
    "# Observation\n",
    " # KNN performs worse than decision tree"
   ]
  },
  {
   "attachments": {},
   "cell_type": "markdown",
   "id": "cdec4664",
   "metadata": {},
   "source": [
    ">> <b>iii. Random Forest Classifier</b>"
   ]
  },
  {
   "cell_type": "code",
   "execution_count": 29,
   "id": "f4d38f9c",
   "metadata": {},
   "outputs": [
    {
     "name": "stdout",
     "output_type": "stream",
     "text": [
      "*********************************************************************\n",
      "              precision    recall  f1-score   support\n",
      "\n",
      "           0       0.83      0.94      0.88        63\n",
      "           1       0.76      0.89      0.82        28\n",
      "           2       0.75      0.38      0.50        16\n",
      "           3       0.92      0.65      0.76        17\n",
      "\n",
      "    accuracy                           0.81       124\n",
      "   macro avg       0.81      0.71      0.74       124\n",
      "weighted avg       0.82      0.81      0.80       124\n",
      "\n",
      "*********************************************************************\n"
     ]
    },
    {
     "data": {
      "text/html": [
       "<div>\n",
       "<style scoped>\n",
       "    .dataframe tbody tr th:only-of-type {\n",
       "        vertical-align: middle;\n",
       "    }\n",
       "\n",
       "    .dataframe tbody tr th {\n",
       "        vertical-align: top;\n",
       "    }\n",
       "\n",
       "    .dataframe thead th {\n",
       "        text-align: right;\n",
       "    }\n",
       "</style>\n",
       "<table border=\"1\" class=\"dataframe\">\n",
       "  <thead>\n",
       "    <tr style=\"text-align: right;\">\n",
       "      <th></th>\n",
       "      <th>Model</th>\n",
       "      <th>Train Accuracy Score(%)</th>\n",
       "      <th>Test Accuracy Score(%)</th>\n",
       "      <th>Train Log_loss</th>\n",
       "      <th>Test Log_loss</th>\n",
       "    </tr>\n",
       "  </thead>\n",
       "  <tbody>\n",
       "    <tr>\n",
       "      <th>0</th>\n",
       "      <td>Baseline Decision Tree</td>\n",
       "      <td>99.0</td>\n",
       "      <td>83.0</td>\n",
       "      <td>0.012334</td>\n",
       "      <td>5.590810</td>\n",
       "    </tr>\n",
       "    <tr>\n",
       "      <th>1</th>\n",
       "      <td>Baseline KNN Classifier</td>\n",
       "      <td>82.0</td>\n",
       "      <td>70.0</td>\n",
       "      <td>0.512985</td>\n",
       "      <td>2.842548</td>\n",
       "    </tr>\n",
       "    <tr>\n",
       "      <th>2</th>\n",
       "      <td>Baseline Random Forest Classifier</td>\n",
       "      <td>99.0</td>\n",
       "      <td>81.0</td>\n",
       "      <td>0.106574</td>\n",
       "      <td>0.775972</td>\n",
       "    </tr>\n",
       "    <tr>\n",
       "      <th>3</th>\n",
       "      <td>Baseline Adaboost Classifier</td>\n",
       "      <td>0.0</td>\n",
       "      <td>0.0</td>\n",
       "      <td>0.000000</td>\n",
       "      <td>0.000000</td>\n",
       "    </tr>\n",
       "    <tr>\n",
       "      <th>4</th>\n",
       "      <td>Baseline Gradient Boost</td>\n",
       "      <td>0.0</td>\n",
       "      <td>0.0</td>\n",
       "      <td>0.000000</td>\n",
       "      <td>0.000000</td>\n",
       "    </tr>\n",
       "    <tr>\n",
       "      <th>5</th>\n",
       "      <td>baseline XGBoost Classifier</td>\n",
       "      <td>0.0</td>\n",
       "      <td>0.0</td>\n",
       "      <td>0.000000</td>\n",
       "      <td>0.000000</td>\n",
       "    </tr>\n",
       "    <tr>\n",
       "      <th>6</th>\n",
       "      <td>XGBoost Classifier-Grid Search</td>\n",
       "      <td>0.0</td>\n",
       "      <td>0.0</td>\n",
       "      <td>0.000000</td>\n",
       "      <td>0.000000</td>\n",
       "    </tr>\n",
       "  </tbody>\n",
       "</table>\n",
       "</div>"
      ],
      "text/plain": [
       "                               Model  Train Accuracy Score(%)  \\\n",
       "0             Baseline Decision Tree                     99.0   \n",
       "1            Baseline KNN Classifier                     82.0   \n",
       "2  Baseline Random Forest Classifier                     99.0   \n",
       "3       Baseline Adaboost Classifier                      0.0   \n",
       "4            Baseline Gradient Boost                      0.0   \n",
       "5        baseline XGBoost Classifier                      0.0   \n",
       "6     XGBoost Classifier-Grid Search                      0.0   \n",
       "\n",
       "   Test Accuracy Score(%)  Train Log_loss  Test Log_loss  \n",
       "0                    83.0        0.012334       5.590810  \n",
       "1                    70.0        0.512985       2.842548  \n",
       "2                    81.0        0.106574       0.775972  \n",
       "3                     0.0        0.000000       0.000000  \n",
       "4                     0.0        0.000000       0.000000  \n",
       "5                     0.0        0.000000       0.000000  \n",
       "6                     0.0        0.000000       0.000000  "
      ]
     },
     "execution_count": 29,
     "metadata": {},
     "output_type": "execute_result"
    }
   ],
   "source": [
    "baseline_rf = RandomForestClassifier(random_state=0)\n",
    "baseline_models(baseline_rf, 'Baseline Random Forest Classifier')\n",
    "\n",
    "# Observation \n",
    " # Random Forest performs better than Decision Tree and KNN"
   ]
  },
  {
   "attachments": {},
   "cell_type": "markdown",
   "id": "5e73af31",
   "metadata": {},
   "source": [
    ">> <b>iv. Adaboost Classifier</b>"
   ]
  },
  {
   "cell_type": "code",
   "execution_count": 30,
   "id": "cdd729a2",
   "metadata": {},
   "outputs": [
    {
     "name": "stdout",
     "output_type": "stream",
     "text": [
      "*********************************************************************\n",
      "              precision    recall  f1-score   support\n",
      "\n",
      "           0       0.74      0.95      0.83        63\n",
      "           1       0.92      0.79      0.85        28\n",
      "           2       0.67      0.25      0.36        16\n",
      "           3       0.69      0.53      0.60        17\n",
      "\n",
      "    accuracy                           0.77       124\n",
      "   macro avg       0.75      0.63      0.66       124\n",
      "weighted avg       0.76      0.77      0.74       124\n",
      "\n",
      "*********************************************************************\n"
     ]
    },
    {
     "data": {
      "text/html": [
       "<div>\n",
       "<style scoped>\n",
       "    .dataframe tbody tr th:only-of-type {\n",
       "        vertical-align: middle;\n",
       "    }\n",
       "\n",
       "    .dataframe tbody tr th {\n",
       "        vertical-align: top;\n",
       "    }\n",
       "\n",
       "    .dataframe thead th {\n",
       "        text-align: right;\n",
       "    }\n",
       "</style>\n",
       "<table border=\"1\" class=\"dataframe\">\n",
       "  <thead>\n",
       "    <tr style=\"text-align: right;\">\n",
       "      <th></th>\n",
       "      <th>Model</th>\n",
       "      <th>Train Accuracy Score(%)</th>\n",
       "      <th>Test Accuracy Score(%)</th>\n",
       "      <th>Train Log_loss</th>\n",
       "      <th>Test Log_loss</th>\n",
       "    </tr>\n",
       "  </thead>\n",
       "  <tbody>\n",
       "    <tr>\n",
       "      <th>0</th>\n",
       "      <td>Baseline Decision Tree</td>\n",
       "      <td>99.0</td>\n",
       "      <td>83.0</td>\n",
       "      <td>0.012334</td>\n",
       "      <td>5.590810</td>\n",
       "    </tr>\n",
       "    <tr>\n",
       "      <th>1</th>\n",
       "      <td>Baseline KNN Classifier</td>\n",
       "      <td>82.0</td>\n",
       "      <td>70.0</td>\n",
       "      <td>0.512985</td>\n",
       "      <td>2.842548</td>\n",
       "    </tr>\n",
       "    <tr>\n",
       "      <th>2</th>\n",
       "      <td>Baseline Random Forest Classifier</td>\n",
       "      <td>99.0</td>\n",
       "      <td>81.0</td>\n",
       "      <td>0.106574</td>\n",
       "      <td>0.775972</td>\n",
       "    </tr>\n",
       "    <tr>\n",
       "      <th>3</th>\n",
       "      <td>Baseline Adaboost Classifier</td>\n",
       "      <td>85.0</td>\n",
       "      <td>77.0</td>\n",
       "      <td>1.031080</td>\n",
       "      <td>1.059045</td>\n",
       "    </tr>\n",
       "    <tr>\n",
       "      <th>4</th>\n",
       "      <td>Baseline Gradient Boost</td>\n",
       "      <td>0.0</td>\n",
       "      <td>0.0</td>\n",
       "      <td>0.000000</td>\n",
       "      <td>0.000000</td>\n",
       "    </tr>\n",
       "    <tr>\n",
       "      <th>5</th>\n",
       "      <td>baseline XGBoost Classifier</td>\n",
       "      <td>0.0</td>\n",
       "      <td>0.0</td>\n",
       "      <td>0.000000</td>\n",
       "      <td>0.000000</td>\n",
       "    </tr>\n",
       "    <tr>\n",
       "      <th>6</th>\n",
       "      <td>XGBoost Classifier-Grid Search</td>\n",
       "      <td>0.0</td>\n",
       "      <td>0.0</td>\n",
       "      <td>0.000000</td>\n",
       "      <td>0.000000</td>\n",
       "    </tr>\n",
       "  </tbody>\n",
       "</table>\n",
       "</div>"
      ],
      "text/plain": [
       "                               Model  Train Accuracy Score(%)  \\\n",
       "0             Baseline Decision Tree                     99.0   \n",
       "1            Baseline KNN Classifier                     82.0   \n",
       "2  Baseline Random Forest Classifier                     99.0   \n",
       "3       Baseline Adaboost Classifier                     85.0   \n",
       "4            Baseline Gradient Boost                      0.0   \n",
       "5        baseline XGBoost Classifier                      0.0   \n",
       "6     XGBoost Classifier-Grid Search                      0.0   \n",
       "\n",
       "   Test Accuracy Score(%)  Train Log_loss  Test Log_loss  \n",
       "0                    83.0        0.012334       5.590810  \n",
       "1                    70.0        0.512985       2.842548  \n",
       "2                    81.0        0.106574       0.775972  \n",
       "3                    77.0        1.031080       1.059045  \n",
       "4                     0.0        0.000000       0.000000  \n",
       "5                     0.0        0.000000       0.000000  \n",
       "6                     0.0        0.000000       0.000000  "
      ]
     },
     "execution_count": 30,
     "metadata": {},
     "output_type": "execute_result"
    }
   ],
   "source": [
    "baseline_adaboost = AdaBoostClassifier(random_state=0)\n",
    "baseline_models(baseline_adaboost, 'Baseline Adaboost Classifier')\n",
    "\n",
    "# Observations:\n",
    " # Adaboost performs worse than all the previous models\n",
    " # There is overfitting\n"
   ]
  },
  {
   "attachments": {},
   "cell_type": "markdown",
   "id": "c66f469f",
   "metadata": {},
   "source": [
    ">> <b>v. Gradient Boost Classifier</b>"
   ]
  },
  {
   "cell_type": "code",
   "execution_count": 31,
   "id": "bd52b9be",
   "metadata": {},
   "outputs": [
    {
     "name": "stdout",
     "output_type": "stream",
     "text": [
      "*********************************************************************\n",
      "              precision    recall  f1-score   support\n",
      "\n",
      "           0       0.82      0.94      0.87        63\n",
      "           1       0.89      0.89      0.89        28\n",
      "           2       0.58      0.44      0.50        16\n",
      "           3       1.00      0.71      0.83        17\n",
      "\n",
      "    accuracy                           0.83       124\n",
      "   macro avg       0.82      0.74      0.77       124\n",
      "weighted avg       0.83      0.83      0.82       124\n",
      "\n",
      "*********************************************************************\n"
     ]
    },
    {
     "data": {
      "text/html": [
       "<div>\n",
       "<style scoped>\n",
       "    .dataframe tbody tr th:only-of-type {\n",
       "        vertical-align: middle;\n",
       "    }\n",
       "\n",
       "    .dataframe tbody tr th {\n",
       "        vertical-align: top;\n",
       "    }\n",
       "\n",
       "    .dataframe thead th {\n",
       "        text-align: right;\n",
       "    }\n",
       "</style>\n",
       "<table border=\"1\" class=\"dataframe\">\n",
       "  <thead>\n",
       "    <tr style=\"text-align: right;\">\n",
       "      <th></th>\n",
       "      <th>Model</th>\n",
       "      <th>Train Accuracy Score(%)</th>\n",
       "      <th>Test Accuracy Score(%)</th>\n",
       "      <th>Train Log_loss</th>\n",
       "      <th>Test Log_loss</th>\n",
       "    </tr>\n",
       "  </thead>\n",
       "  <tbody>\n",
       "    <tr>\n",
       "      <th>0</th>\n",
       "      <td>Baseline Decision Tree</td>\n",
       "      <td>99.0</td>\n",
       "      <td>83.0</td>\n",
       "      <td>0.012334</td>\n",
       "      <td>5.590810</td>\n",
       "    </tr>\n",
       "    <tr>\n",
       "      <th>1</th>\n",
       "      <td>Baseline KNN Classifier</td>\n",
       "      <td>82.0</td>\n",
       "      <td>70.0</td>\n",
       "      <td>0.512985</td>\n",
       "      <td>2.842548</td>\n",
       "    </tr>\n",
       "    <tr>\n",
       "      <th>2</th>\n",
       "      <td>Baseline Random Forest Classifier</td>\n",
       "      <td>99.0</td>\n",
       "      <td>81.0</td>\n",
       "      <td>0.106574</td>\n",
       "      <td>0.775972</td>\n",
       "    </tr>\n",
       "    <tr>\n",
       "      <th>3</th>\n",
       "      <td>Baseline Adaboost Classifier</td>\n",
       "      <td>85.0</td>\n",
       "      <td>77.0</td>\n",
       "      <td>1.031080</td>\n",
       "      <td>1.059045</td>\n",
       "    </tr>\n",
       "    <tr>\n",
       "      <th>4</th>\n",
       "      <td>Baseline Gradient Boost</td>\n",
       "      <td>97.0</td>\n",
       "      <td>83.0</td>\n",
       "      <td>0.163581</td>\n",
       "      <td>0.509805</td>\n",
       "    </tr>\n",
       "    <tr>\n",
       "      <th>5</th>\n",
       "      <td>baseline XGBoost Classifier</td>\n",
       "      <td>0.0</td>\n",
       "      <td>0.0</td>\n",
       "      <td>0.000000</td>\n",
       "      <td>0.000000</td>\n",
       "    </tr>\n",
       "    <tr>\n",
       "      <th>6</th>\n",
       "      <td>XGBoost Classifier-Grid Search</td>\n",
       "      <td>0.0</td>\n",
       "      <td>0.0</td>\n",
       "      <td>0.000000</td>\n",
       "      <td>0.000000</td>\n",
       "    </tr>\n",
       "  </tbody>\n",
       "</table>\n",
       "</div>"
      ],
      "text/plain": [
       "                               Model  Train Accuracy Score(%)  \\\n",
       "0             Baseline Decision Tree                     99.0   \n",
       "1            Baseline KNN Classifier                     82.0   \n",
       "2  Baseline Random Forest Classifier                     99.0   \n",
       "3       Baseline Adaboost Classifier                     85.0   \n",
       "4            Baseline Gradient Boost                     97.0   \n",
       "5        baseline XGBoost Classifier                      0.0   \n",
       "6     XGBoost Classifier-Grid Search                      0.0   \n",
       "\n",
       "   Test Accuracy Score(%)  Train Log_loss  Test Log_loss  \n",
       "0                    83.0        0.012334       5.590810  \n",
       "1                    70.0        0.512985       2.842548  \n",
       "2                    81.0        0.106574       0.775972  \n",
       "3                    77.0        1.031080       1.059045  \n",
       "4                    83.0        0.163581       0.509805  \n",
       "5                     0.0        0.000000       0.000000  \n",
       "6                     0.0        0.000000       0.000000  "
      ]
     },
     "execution_count": 31,
     "metadata": {},
     "output_type": "execute_result"
    }
   ],
   "source": [
    "baseline_gradientboost = GradientBoostingClassifier(random_state=0)\n",
    "baseline_models(baseline_gradientboost, 'Baseline Gradient Boost')"
   ]
  },
  {
   "attachments": {},
   "cell_type": "markdown",
   "id": "79d73e10",
   "metadata": {},
   "source": [
    ">> <b>vi. XGBoost Classifier</b>"
   ]
  },
  {
   "cell_type": "code",
   "execution_count": 32,
   "id": "93a2a2d0",
   "metadata": {},
   "outputs": [
    {
     "name": "stdout",
     "output_type": "stream",
     "text": [
      "*********************************************************************\n",
      "              precision    recall  f1-score   support\n",
      "\n",
      "           0       0.83      0.94      0.88        63\n",
      "           1       0.89      0.89      0.89        28\n",
      "           2       0.71      0.62      0.67        16\n",
      "           3       1.00      0.65      0.79        17\n",
      "\n",
      "    accuracy                           0.85       124\n",
      "   macro avg       0.86      0.78      0.81       124\n",
      "weighted avg       0.85      0.85      0.84       124\n",
      "\n",
      "*********************************************************************\n"
     ]
    },
    {
     "data": {
      "text/html": [
       "<div>\n",
       "<style scoped>\n",
       "    .dataframe tbody tr th:only-of-type {\n",
       "        vertical-align: middle;\n",
       "    }\n",
       "\n",
       "    .dataframe tbody tr th {\n",
       "        vertical-align: top;\n",
       "    }\n",
       "\n",
       "    .dataframe thead th {\n",
       "        text-align: right;\n",
       "    }\n",
       "</style>\n",
       "<table border=\"1\" class=\"dataframe\">\n",
       "  <thead>\n",
       "    <tr style=\"text-align: right;\">\n",
       "      <th></th>\n",
       "      <th>Model</th>\n",
       "      <th>Train Accuracy Score(%)</th>\n",
       "      <th>Test Accuracy Score(%)</th>\n",
       "      <th>Train Log_loss</th>\n",
       "      <th>Test Log_loss</th>\n",
       "    </tr>\n",
       "  </thead>\n",
       "  <tbody>\n",
       "    <tr>\n",
       "      <th>0</th>\n",
       "      <td>Baseline Decision Tree</td>\n",
       "      <td>99.0</td>\n",
       "      <td>83.0</td>\n",
       "      <td>0.012334</td>\n",
       "      <td>5.590810</td>\n",
       "    </tr>\n",
       "    <tr>\n",
       "      <th>1</th>\n",
       "      <td>Baseline KNN Classifier</td>\n",
       "      <td>82.0</td>\n",
       "      <td>70.0</td>\n",
       "      <td>0.512985</td>\n",
       "      <td>2.842548</td>\n",
       "    </tr>\n",
       "    <tr>\n",
       "      <th>2</th>\n",
       "      <td>Baseline Random Forest Classifier</td>\n",
       "      <td>99.0</td>\n",
       "      <td>81.0</td>\n",
       "      <td>0.106574</td>\n",
       "      <td>0.775972</td>\n",
       "    </tr>\n",
       "    <tr>\n",
       "      <th>3</th>\n",
       "      <td>Baseline Adaboost Classifier</td>\n",
       "      <td>85.0</td>\n",
       "      <td>77.0</td>\n",
       "      <td>1.031080</td>\n",
       "      <td>1.059045</td>\n",
       "    </tr>\n",
       "    <tr>\n",
       "      <th>4</th>\n",
       "      <td>Baseline Gradient Boost</td>\n",
       "      <td>97.0</td>\n",
       "      <td>83.0</td>\n",
       "      <td>0.163581</td>\n",
       "      <td>0.509805</td>\n",
       "    </tr>\n",
       "    <tr>\n",
       "      <th>5</th>\n",
       "      <td>baseline XGBoost Classifier</td>\n",
       "      <td>93.0</td>\n",
       "      <td>85.0</td>\n",
       "      <td>0.219129</td>\n",
       "      <td>0.451154</td>\n",
       "    </tr>\n",
       "    <tr>\n",
       "      <th>6</th>\n",
       "      <td>XGBoost Classifier-Grid Search</td>\n",
       "      <td>0.0</td>\n",
       "      <td>0.0</td>\n",
       "      <td>0.000000</td>\n",
       "      <td>0.000000</td>\n",
       "    </tr>\n",
       "  </tbody>\n",
       "</table>\n",
       "</div>"
      ],
      "text/plain": [
       "                               Model  Train Accuracy Score(%)  \\\n",
       "0             Baseline Decision Tree                     99.0   \n",
       "1            Baseline KNN Classifier                     82.0   \n",
       "2  Baseline Random Forest Classifier                     99.0   \n",
       "3       Baseline Adaboost Classifier                     85.0   \n",
       "4            Baseline Gradient Boost                     97.0   \n",
       "5        baseline XGBoost Classifier                     93.0   \n",
       "6     XGBoost Classifier-Grid Search                      0.0   \n",
       "\n",
       "   Test Accuracy Score(%)  Train Log_loss  Test Log_loss  \n",
       "0                    83.0        0.012334       5.590810  \n",
       "1                    70.0        0.512985       2.842548  \n",
       "2                    81.0        0.106574       0.775972  \n",
       "3                    77.0        1.031080       1.059045  \n",
       "4                    83.0        0.163581       0.509805  \n",
       "5                    85.0        0.219129       0.451154  \n",
       "6                     0.0        0.000000       0.000000  "
      ]
     },
     "execution_count": 32,
     "metadata": {},
     "output_type": "execute_result"
    }
   ],
   "source": [
    "xgboost_classifier = XGBClassifier()\n",
    "baseline_models(xgboost_classifier, 'baseline XGBoost Classifier')"
   ]
  },
  {
   "attachments": {},
   "cell_type": "markdown",
   "id": "d3158b48",
   "metadata": {},
   "source": [
    ">> <b> Tuning XGboost model</b>"
   ]
  },
  {
   "cell_type": "code",
   "execution_count": 33,
   "id": "a97e6844",
   "metadata": {},
   "outputs": [
    {
     "name": "stdout",
     "output_type": "stream",
     "text": [
      "*********************************************************************\n",
      "              precision    recall  f1-score   support\n",
      "\n",
      "           0       0.84      0.94      0.89        63\n",
      "           1       0.86      0.89      0.88        28\n",
      "           2       0.71      0.62      0.67        16\n",
      "           3       1.00      0.65      0.79        17\n",
      "\n",
      "    accuracy                           0.85       124\n",
      "   macro avg       0.85      0.78      0.80       124\n",
      "weighted avg       0.85      0.85      0.84       124\n",
      "\n",
      "*********************************************************************\n"
     ]
    },
    {
     "data": {
      "text/html": [
       "<div>\n",
       "<style scoped>\n",
       "    .dataframe tbody tr th:only-of-type {\n",
       "        vertical-align: middle;\n",
       "    }\n",
       "\n",
       "    .dataframe tbody tr th {\n",
       "        vertical-align: top;\n",
       "    }\n",
       "\n",
       "    .dataframe thead th {\n",
       "        text-align: right;\n",
       "    }\n",
       "</style>\n",
       "<table border=\"1\" class=\"dataframe\">\n",
       "  <thead>\n",
       "    <tr style=\"text-align: right;\">\n",
       "      <th></th>\n",
       "      <th>Model</th>\n",
       "      <th>Train Accuracy Score(%)</th>\n",
       "      <th>Test Accuracy Score(%)</th>\n",
       "      <th>Train Log_loss</th>\n",
       "      <th>Test Log_loss</th>\n",
       "    </tr>\n",
       "  </thead>\n",
       "  <tbody>\n",
       "    <tr>\n",
       "      <th>0</th>\n",
       "      <td>Baseline Decision Tree</td>\n",
       "      <td>99.0</td>\n",
       "      <td>83.0</td>\n",
       "      <td>0.012334</td>\n",
       "      <td>5.590810</td>\n",
       "    </tr>\n",
       "    <tr>\n",
       "      <th>1</th>\n",
       "      <td>Baseline KNN Classifier</td>\n",
       "      <td>82.0</td>\n",
       "      <td>70.0</td>\n",
       "      <td>0.512985</td>\n",
       "      <td>2.842548</td>\n",
       "    </tr>\n",
       "    <tr>\n",
       "      <th>2</th>\n",
       "      <td>Baseline Random Forest Classifier</td>\n",
       "      <td>99.0</td>\n",
       "      <td>81.0</td>\n",
       "      <td>0.106574</td>\n",
       "      <td>0.775972</td>\n",
       "    </tr>\n",
       "    <tr>\n",
       "      <th>3</th>\n",
       "      <td>Baseline Adaboost Classifier</td>\n",
       "      <td>85.0</td>\n",
       "      <td>77.0</td>\n",
       "      <td>1.031080</td>\n",
       "      <td>1.059045</td>\n",
       "    </tr>\n",
       "    <tr>\n",
       "      <th>4</th>\n",
       "      <td>Baseline Gradient Boost</td>\n",
       "      <td>97.0</td>\n",
       "      <td>83.0</td>\n",
       "      <td>0.163581</td>\n",
       "      <td>0.509805</td>\n",
       "    </tr>\n",
       "    <tr>\n",
       "      <th>5</th>\n",
       "      <td>baseline XGBoost Classifier</td>\n",
       "      <td>93.0</td>\n",
       "      <td>85.0</td>\n",
       "      <td>0.219129</td>\n",
       "      <td>0.451154</td>\n",
       "    </tr>\n",
       "    <tr>\n",
       "      <th>6</th>\n",
       "      <td>XGBoost Classifier-Grid Search</td>\n",
       "      <td>92.0</td>\n",
       "      <td>85.0</td>\n",
       "      <td>0.241682</td>\n",
       "      <td>0.439006</td>\n",
       "    </tr>\n",
       "  </tbody>\n",
       "</table>\n",
       "</div>"
      ],
      "text/plain": [
       "                               Model  Train Accuracy Score(%)  \\\n",
       "0             Baseline Decision Tree                     99.0   \n",
       "1            Baseline KNN Classifier                     82.0   \n",
       "2  Baseline Random Forest Classifier                     99.0   \n",
       "3       Baseline Adaboost Classifier                     85.0   \n",
       "4            Baseline Gradient Boost                     97.0   \n",
       "5        baseline XGBoost Classifier                     93.0   \n",
       "6     XGBoost Classifier-Grid Search                     92.0   \n",
       "\n",
       "   Test Accuracy Score(%)  Train Log_loss  Test Log_loss  \n",
       "0                    83.0        0.012334       5.590810  \n",
       "1                    70.0        0.512985       2.842548  \n",
       "2                    81.0        0.106574       0.775972  \n",
       "3                    77.0        1.031080       1.059045  \n",
       "4                    83.0        0.163581       0.509805  \n",
       "5                    85.0        0.219129       0.451154  \n",
       "6                    85.0        0.241682       0.439006  "
      ]
     },
     "execution_count": 33,
     "metadata": {},
     "output_type": "execute_result"
    }
   ],
   "source": [
    "Tuned_xgboost = XGBClassifier()\n",
    "param_grid = {'learning_rate': [0.1,0.2],\n",
    "               'max_depth': [4, 6, 10],\n",
    "               'n_estimators':[200, 300, 400]}\n",
    "\n",
    "\n",
    "xgbclassifier_grid_search = GridSearchCV(Tuned_xgboost, param_grid, scoring='accuracy', cv=3, n_jobs=1)\n",
    "\n",
    "xgbclassifier_grid_search.fit(X_train, y_train)\n",
    "\n",
    "y_test_pred_prob = xgbclassifier_grid_search.predict_proba(X_test)\n",
    "y_train_pred_prob = xgbclassifier_grid_search.predict_proba(X_train)\n",
    "\n",
    "y_test_pred = xgbclassifier_grid_search.predict(X_test)\n",
    "y_train_pred = xgbclassifier_grid_search.predict(X_train)\n",
    "\n",
    "print('*********************************************************************')\n",
    "print(classification_report(y_test, y_test_pred ))\n",
    "\n",
    "print('*********************************************************************')\n",
    "model_results('XGBoost Classifier-Grid Search',y_train, y_train_pred, y_train_pred_prob, y_test, y_test_pred, y_test_pred_prob)\n",
    "\n"
   ]
  },
  {
   "cell_type": "code",
   "execution_count": 34,
   "id": "c0c00471",
   "metadata": {},
   "outputs": [
    {
     "data": {
      "text/plain": [
       "{'learning_rate': 0.1, 'max_depth': 4, 'n_estimators': 300}"
      ]
     },
     "execution_count": 34,
     "metadata": {},
     "output_type": "execute_result"
    }
   ],
   "source": [
    "# XGBoost Best Parameters\n",
    "xgbclassifier_grid_search.best_params_"
   ]
  },
  {
   "attachments": {},
   "cell_type": "markdown",
   "id": "059ca19b",
   "metadata": {},
   "source": [
    "# Final Model\n",
    "\n",
    "<i>The chosen  final model is the XGBoost Classifier</i>"
   ]
  },
  {
   "cell_type": "code",
   "execution_count": 35,
   "id": "99b77b7c",
   "metadata": {},
   "outputs": [],
   "source": [
    "final_model = XGBClassifier(learning_rate=0.1, max_depth=4, n_estimators=300)\n",
    " \n",
    "final_model.fit(train_data, train_label)\n",
    "\n",
    "preds = final_model.predict_proba(validation_data)\n"
   ]
  },
  {
   "cell_type": "code",
   "execution_count": null,
   "id": "88cf47e0",
   "metadata": {},
   "outputs": [],
   "source": [
    "\n",
    "id = pd.DataFrame(validation_df['ID'])\n",
    "predicted = pd.DataFrame(preds, columns=['Depression', 'Alcohol', 'Suicide', 'Drugs'])\n",
    "predicted_status = pd.concat([id,predicted], axis=1)\n",
    "\n",
    "#Saving file as a CSV\n",
    "predicted_status.to_csv('Data/predicted_status.csv',encoding='utf-8',sep=',', index=False)"
   ]
  },
  {
   "attachments": {},
   "cell_type": "markdown",
   "id": "d62211aa",
   "metadata": {},
   "source": [
    "# **4. Evaluation**"
   ]
  },
  {
   "cell_type": "code",
   "execution_count": null,
   "id": "d2469426",
   "metadata": {},
   "outputs": [],
   "source": []
  },
  {
   "attachments": {},
   "cell_type": "markdown",
   "id": "322b8d28",
   "metadata": {},
   "source": [
    "# **Conclusion and recommendations**"
   ]
  },
  {
   "cell_type": "markdown",
   "id": "41a7007c",
   "metadata": {},
   "source": []
  }
 ],
 "metadata": {
  "kernelspec": {
   "display_name": "learn-env",
   "language": "python",
   "name": "python3"
  },
  "language_info": {
   "codemirror_mode": {
    "name": "ipython",
    "version": 3
   },
   "file_extension": ".py",
   "mimetype": "text/x-python",
   "name": "python",
   "nbconvert_exporter": "python",
   "pygments_lexer": "ipython3",
   "version": "3.8.5"
  },
  "vscode": {
   "interpreter": {
    "hash": "15e1ea0e9ae73a04f4db62dd1e96b3b16ca57ecdaaf21916cbbe9da1fa870ff9"
   }
  }
 },
 "nbformat": 4,
 "nbformat_minor": 5
}
